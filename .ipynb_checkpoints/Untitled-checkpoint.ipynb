{
 "cells": [
  {
   "cell_type": "code",
   "execution_count": 1,
   "metadata": {},
   "outputs": [],
   "source": [
    "import numpy as np\n",
    "import random\n",
    "import pylab"
   ]
  },
  {
   "cell_type": "code",
   "execution_count": 2,
   "metadata": {},
   "outputs": [],
   "source": [
    "Delta_J = 2"
   ]
  },
  {
   "cell_type": "code",
   "execution_count": 3,
   "metadata": {},
   "outputs": [],
   "source": [
    "def Ji():\n",
    "    return random.uniform(1-Delta_J/2, 1+Delta_J/2) "
   ]
  },
  {
   "cell_type": "code",
   "execution_count": 53,
   "metadata": {},
   "outputs": [],
   "source": [
    "Splus = np.array([[0,1],[0,0]])\n",
    "Sminus = np.array([[0,0],[1,0]])\n",
    "Sz = np.array([[1,0],[0,-1]])/2"
   ]
  },
  {
   "cell_type": "code",
   "execution_count": 54,
   "metadata": {},
   "outputs": [],
   "source": [
    "def W1():\n",
    "    J = 1\n",
    "    return [np.eye(2),J/2*Splus,J/2*Sminus,J*Sz,np.zeros([2,2])]\n",
    "\n",
    "def Wi():\n",
    "    J = 1\n",
    "    return [[np.eye(2),J/2*Splus,J/2*Sminus,J*Sz,np.zeros([2,2])],\\\n",
    "            [np.zeros([2,2]),np.zeros([2,2]),np.zeros([2,2]),np.zeros([2,2]),Sminus],\\\n",
    "            [np.zeros([2,2]),np.zeros([2,2]),np.zeros([2,2]),np.zeros([2,2]),Splus],\\\n",
    "            [np.zeros([2,2]),np.zeros([2,2]),np.zeros([2,2]),np.zeros([2,2]),Sz],\\\n",
    "            [np.zeros([2,2]),np.zeros([2,2]),np.zeros([2,2]),np.zeros([2,2]),np.eye(2)]]\n",
    "\n",
    "def WL():\n",
    "    J = 1\n",
    "    return [np.zeros([2,2]),Sminus,Splus,Sz,np.eye(2)]"
   ]
  },
  {
   "cell_type": "code",
   "execution_count": 55,
   "metadata": {},
   "outputs": [],
   "source": [
    "def times1(a,b,L):\n",
    "    c = [np.zeros([2**L,2**L]) for i in range(5)]\n",
    "    for i in range(5):\n",
    "        for j in range(5):\n",
    "            c[i] += np.kron(a[j],b[j][i])\n",
    "    return c\n",
    "\n",
    "def times2(a,b,L):\n",
    "    c = np.zeros([2**L,2**L])\n",
    "    for i in range(5):\n",
    "        c += np.kron(a[i],b[i])\n",
    "    return c"
   ]
  },
  {
   "cell_type": "code",
   "execution_count": 56,
   "metadata": {},
   "outputs": [
    {
     "data": {
      "text/plain": [
       "array([[ 0.5,  0. ,  0. ,  0. ,  0. ,  0. ,  0. ,  0. ],\n",
       "       [ 0. ,  0. ,  0.5,  0. ,  0. ,  0. ,  0. ,  0. ],\n",
       "       [ 0. ,  0.5, -0.5,  0. ,  0.5,  0. ,  0. ,  0. ],\n",
       "       [ 0. ,  0. ,  0. ,  0. ,  0. ,  0.5,  0. ,  0. ],\n",
       "       [ 0. ,  0. ,  0.5,  0. ,  0. ,  0. ,  0. ,  0. ],\n",
       "       [ 0. ,  0. ,  0. ,  0.5,  0. , -0.5,  0.5,  0. ],\n",
       "       [ 0. ,  0. ,  0. ,  0. ,  0. ,  0.5,  0. ,  0. ],\n",
       "       [ 0. ,  0. ,  0. ,  0. ,  0. ,  0. ,  0. ,  0.5]])"
      ]
     },
     "execution_count": 56,
     "metadata": {},
     "output_type": "execute_result"
    }
   ],
   "source": [
    "times2(times1(W1(),Wi(),2),WL(),3)"
   ]
  },
  {
   "cell_type": "code",
   "execution_count": 59,
   "metadata": {},
   "outputs": [],
   "source": [
    "a,b=np.linalg.eig(times2(times1(W1(),Wi(),2),WL(),3))"
   ]
  },
  {
   "cell_type": "code",
   "execution_count": 62,
   "metadata": {},
   "outputs": [
    {
     "data": {
      "text/plain": [
       "[-1.0,\n",
       " -0.99999999999999978,\n",
       " -5.6177342644273334e-18,\n",
       " 0.0,\n",
       " 0.49999999999999989,\n",
       " 0.49999999999999989,\n",
       " 0.5,\n",
       " 0.5]"
      ]
     },
     "execution_count": 62,
     "metadata": {},
     "output_type": "execute_result"
    }
   ],
   "source": [
    "sorted(a)"
   ]
  },
  {
   "cell_type": "code",
   "execution_count": null,
   "metadata": {},
   "outputs": [],
   "source": [
    "for i in range(3):\n",
    "    WL = times1(W1(),Wi(),2)\n"
   ]
  }
 ],
 "metadata": {
  "kernelspec": {
   "display_name": "Python 3",
   "language": "python",
   "name": "python3"
  },
  "language_info": {
   "codemirror_mode": {
    "name": "ipython",
    "version": 3
   },
   "file_extension": ".py",
   "mimetype": "text/x-python",
   "name": "python",
   "nbconvert_exporter": "python",
   "pygments_lexer": "ipython3",
   "version": "3.6.6"
  }
 },
 "nbformat": 4,
 "nbformat_minor": 2
}
