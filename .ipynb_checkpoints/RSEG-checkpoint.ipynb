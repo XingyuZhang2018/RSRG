{
 "cells": [
  {
   "cell_type": "code",
   "execution_count": 1,
   "metadata": {},
   "outputs": [],
   "source": [
    "import numpy as np\n",
    "import random\n",
    "import pylab\n",
    "import math\n",
    "from functools import reduce"
   ]
  },
  {
   "cell_type": "code",
   "execution_count": 2,
   "metadata": {},
   "outputs": [],
   "source": [
    "#常量 \n",
    "Splus = np.array([[0,1],[0,0]])     #S+\n",
    "Sminus = np.array([[0,0],[1,0]])    #S-\n",
    "Sz = np.array([[1,0],[0,-1]])/2     #Sz\n",
    "Sx = np.array([[0,1],[1,0]])/2      #Sx\n",
    "Sy = np.array([[0,-1j],[1j,0]])/2   #Sy\n",
    "\n",
    "def I(i): \n",
    "    \"\"\"单位矩阵 || 2^ix2^i维矩阵\"\"\"\n",
    "    return np.eye(2**i)           "
   ]
  },
  {
   "cell_type": "code",
   "execution_count": 76,
   "metadata": {},
   "outputs": [],
   "source": [
    "def Coupling(L, J0):\n",
    "    \"\"\"耦合强度J || L-1维向量\"\"\"\n",
    "    J = np.zeros(L - 1)\n",
    "    for i in range(L - 1):\n",
    "        J[i] = random.uniform(0, J0)  #0到J0均匀分布\n",
    "        #J[i] = 1                       #测试用    \n",
    "    return J\n",
    "\n",
    "def Hamilton(L, J):\n",
    "    \"\"\"一般哈密顿量H || L格点\"\"\"\n",
    "    H2 = (np.kron(Splus, Sminus) + np.kron(Sminus, Splus)) / 2 + np.kron(Sz, Sz)\n",
    "    H = sum([J[i] * np.kron(np.kron(I(i),H2),I(L - 2 - i)) for i in range(L - 1)])\n",
    "    return H\n",
    "\n",
    "def Hblock(L, B, J):\n",
    "    \"\"\"block的哈密顿量H_b || (L/B)个(2^Lx2^L)维矩阵\"\"\"\n",
    "    \"\"\"block的耦合强度J_b || (L/B-1)维向量\"\"\"\n",
    "    \"\"\"block的左右自旋S_b || (L/B)个2维矩阵\"\"\"\n",
    "    N = int(L / B)   #block数目\n",
    "    H_b = [Hamilton(B, J[B * i:B * i + B - 1]) for i in range(N)]\n",
    "    J_b = [J[B * i + B - 1] for i in range(N - 1)]\n",
    "    S_b = [[[Sx,Sy,Sz],[Sx,Sy,Sz]] for i in range(N)]\n",
    "\n",
    "    return H_b, J_b, S_b\n",
    "\n",
    "def Hmiddle(J_b, S_b, H_b):\n",
    "    \"\"\"block之间的哈密顿量H_mid || 维度与S_b，H_b相关\"\"\"\n",
    "    N = len(J_b)    #block关联数目\n",
    "    H_mid = [0]*N\n",
    "    for i in range(N):\n",
    "        n1 = int (H_b[i].shape[0] / S_b[i][1][0].shape[0])         #左边block的S与H_mid维度差异\n",
    "        n2 = int (H_b[i + 1].shape[0] / S_b[i + 1][0][0].shape[0]) #右边block的S与H_mid维度差异\n",
    "        H_mid[i] = J_b[i] * reduce(np.kron,[np.eye(n1), \\\n",
    "                    sum([np.kron(S_b[i][1][j],S_b[i + 1][0][j]) for j in range(3)]),np.eye(n2)])\n",
    "    return H_mid\n",
    "\n",
    "def Enlarge(H_b, H_mid):\n",
    "    \"\"\"两个block和中间组成更大的H_b_enlarge || 维度与H_b相关\"\"\"\n",
    "    N = len(H_b)   #block数目\n",
    "    H_b_enlarge = [np.kron(H_b[i], np.eye(H_b[i + 1].shape[0])) + \\\n",
    "                    np.kron(np.eye(H_b[i].shape[0] ), H_b[i + 1]) + H_mid[i] for i in range(N - 1)]\n",
    "    return H_b_enlarge\n",
    "\n",
    "def DigDeta(H_b_enlarge, m):\n",
    "    \"\"\"求出H_b_enlarge的Delta || N-1维向量\"\"\"\n",
    "    N = len(H_b_enlarge)\n",
    "    Delta = [0]*N\n",
    "    for i in range(N):\n",
    "        D, _ = np.linalg.eigh(H_b_enlarge[i])\n",
    "        Delta[i] = D[m] - D[m-1]\n",
    "    return Delta\n",
    "    \n",
    "def Cutimes(H,V_cut):\n",
    "    \"\"\"H_cut = V_cut^+ * H * V_cut\"\"\"\n",
    "    return V_cut.conjugate().transpose().dot(H.dot(V_cut))\n",
    "\n",
    "def Renormal(H, m):\n",
    "    \"\"\"对H保留m个态重整化\"\"\"\n",
    "    D,V = np.linalg.eigh(H)\n",
    "    V_cut = V[:, 0:m]\n",
    "    H_cut = Cutimes(H,V_cut)\n",
    "    return H_cut, V_cut\n",
    "\n",
    "def Reblock(H_b, H_b_enlarge, Delta, m):\n",
    "    S = Delta.index(max(Delta))   #Delta最大所在位置\n",
    "    H_b[S], V_cut = Renormal(H_b_enlarge[S], m)\n",
    "    n1 = int(V_cut.shape[0] / S_b[S][0][0].shape[0])   #左边S与m相差\n",
    "    n2 = int(V_cut.shape[0] / S_b[S][1][0].shape[0])   #右边S与m相差\n",
    "    S_b[S] = [[Cutimes(np.kron(S_b[S][0][i], np.eye(n1)),V_cut) for i in range(3)],\\\n",
    "              [Cutimes(np.kron(np.eye(n2), S_b[S][1][i]),V_cut) for i in range(3)]]\n",
    "    del H_b[S + 1]\n",
    "    del S_b[S + 1]\n",
    "    del J_b[S]\n",
    "    N = len(H_b_enlarge)\n",
    "    if S == 0:\n",
    "        del H_b_enlarge[0:2]\n",
    "    elif S == N - 1:\n",
    "        del H_b_enlarge[N - 2: N]\n",
    "    else:\n",
    "        del H_b_enlarge[S - 1: S + 2]\n",
    "    return H_b, H_b_enlarge, S_b"
   ]
  },
  {
   "cell_type": "code",
   "execution_count": 89,
   "metadata": {},
   "outputs": [],
   "source": [
    "#参数\n",
    "L = 12           #链长\n",
    "m = 10           #重整化保留态数\n",
    "B = 3            #初始block大小\n",
    "J0 = 5           #耦合强度上限"
   ]
  },
  {
   "cell_type": "code",
   "execution_count": 91,
   "metadata": {},
   "outputs": [],
   "source": [
    "#初始化Hblock\n",
    "J = Coupling(L, J0)\n",
    "H_b, J_b, S_b = Hblock(L, B, J)"
   ]
  },
  {
   "cell_type": "code",
   "execution_count": 92,
   "metadata": {},
   "outputs": [],
   "source": [
    "while(len(H_b) > 1):\n",
    "    #计算delta\n",
    "    H_mid = Hmiddle(J_b, S_b, H_b)\n",
    "    H_b_enlarge = Enlarge(H_b, H_mid)\n",
    "    Delta = DigDeta(H_b_enlarge, m)\n",
    "    #重整化\n",
    "    H_b, H_b_enlarge, S_b = Reblock(H_b, H_b_enlarge, Delta, m)"
   ]
  },
  {
   "cell_type": "code",
   "execution_count": 94,
   "metadata": {},
   "outputs": [
    {
     "name": "stdout",
     "output_type": "stream",
     "text": [
      "[-14.3235573  -14.04136245 -14.04136245 -14.04136245 -12.32665833\n",
      " -12.32284725 -12.32284725 -12.32284725 -11.71457491 -11.71457491]\n",
      "[-14.33443555 -14.06359599 -14.06359599 ...,   7.33503004   7.33503004\n",
      "   7.33503004]\n"
     ]
    }
   ],
   "source": [
    "D,_ = np.linalg.eigh(H_b[0])\n",
    "print(D)\n",
    "D,_ = np.linalg.eigh(Hamilton(L,J))\n",
    "print(D)"
   ]
  },
  {
   "cell_type": "code",
   "execution_count": null,
   "metadata": {},
   "outputs": [],
   "source": []
  }
 ],
 "metadata": {
  "kernelspec": {
   "display_name": "Python 3",
   "language": "python",
   "name": "python3"
  },
  "language_info": {
   "codemirror_mode": {
    "name": "ipython",
    "version": 3
   },
   "file_extension": ".py",
   "mimetype": "text/x-python",
   "name": "python",
   "nbconvert_exporter": "python",
   "pygments_lexer": "ipython3",
   "version": "3.6.6"
  }
 },
 "nbformat": 4,
 "nbformat_minor": 2
}
