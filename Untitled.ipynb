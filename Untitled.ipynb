{
 "cells": [
  {
   "cell_type": "code",
   "execution_count": 1,
   "metadata": {},
   "outputs": [],
   "source": [
    "import numpy as np\n",
    "import random\n",
    "import pylab"
   ]
  },
  {
   "cell_type": "code",
   "execution_count": 2,
   "metadata": {},
   "outputs": [],
   "source": [
    "Delta_J = 2"
   ]
  },
  {
   "cell_type": "code",
   "execution_count": 3,
   "metadata": {},
   "outputs": [],
   "source": [
    "def Ji():\n",
    "    return random.uniform(1-Delta_J/2, 1+Delta_J/2) "
   ]
  },
  {
   "cell_type": "code",
   "execution_count": 4,
   "metadata": {},
   "outputs": [],
   "source": [
    "Splus = np.array([[0,1],[0,0]])\n",
    "Sminus = np.array([[0,0],[1,0]])\n",
    "Sz = np.array([[1,0],[0,-1]])/2"
   ]
  },
  {
   "cell_type": "code",
   "execution_count": 15,
   "metadata": {},
   "outputs": [],
   "source": [
    "def W1(J):\n",
    "    return [np.eye(2),J/2*Splus,J/2*Sminus,J*Sz,np.zeros([2,2])]\n",
    "\n",
    "def Wi(J):\n",
    "    return [[np.eye(2),J/2*Splus,J/2*Sminus,J*Sz,np.zeros([2,2])],\\\n",
    "            [np.zeros([2,2]),np.zeros([2,2]),np.zeros([2,2]),np.zeros([2,2]),Sminus],\\\n",
    "            [np.zeros([2,2]),np.zeros([2,2]),np.zeros([2,2]),np.zeros([2,2]),Splus],\\\n",
    "            [np.zeros([2,2]),np.zeros([2,2]),np.zeros([2,2]),np.zeros([2,2]),Sz],\\\n",
    "            [np.zeros([2,2]),np.zeros([2,2]),np.zeros([2,2]),np.zeros([2,2]),np.eye(2)]]\n",
    "\n",
    "def WL():\n",
    "    return [np.zeros([2,2]),Sminus,Splus,Sz,np.eye(2)]\n",
    "\n",
    "def times1(a,b,L):\n",
    "    c = [np.zeros([2**L,2**L]) for i in range(5)]\n",
    "    for i in range(5):\n",
    "        for j in range(5):\n",
    "            c[i] += np.kron(a[j],b[j][i])\n",
    "    return c\n",
    "\n",
    "def times2(a,b,L):\n",
    "    c = np.zeros([2**L,2**L])\n",
    "    for i in range(5):\n",
    "        c += np.kron(a[i],b[i])\n",
    "    return c\n",
    "\n",
    "def Hemilton(L,J):\n",
    "    Wl = W1(J[0])\n",
    "    for i in range(L-2):\n",
    "        Wl = times1(Wl,Wi(J[i + 1]),i + 2)\n",
    "    return times2(Wl,WL(),L)"
   ]
  },
  {
   "cell_type": "code",
   "execution_count": 4,
   "metadata": {},
   "outputs": [
    {
     "data": {
      "text/plain": [
       "array([[ 0.5,  0. ,  0. ,  0. ,  0. ,  0. ,  0. ,  0. ],\n",
       "       [ 0. ,  0. ,  0.5,  0. ,  0. ,  0. ,  0. ,  0. ],\n",
       "       [ 0. ,  0.5, -0.5,  0. ,  0.5,  0. ,  0. ,  0. ],\n",
       "       [ 0. ,  0. ,  0. ,  0. ,  0. ,  0.5,  0. ,  0. ],\n",
       "       [ 0. ,  0. ,  0.5,  0. ,  0. ,  0. ,  0. ,  0. ],\n",
       "       [ 0. ,  0. ,  0. ,  0.5,  0. , -0.5,  0.5,  0. ],\n",
       "       [ 0. ,  0. ,  0. ,  0. ,  0. ,  0.5,  0. ,  0. ],\n",
       "       [ 0. ,  0. ,  0. ,  0. ,  0. ,  0. ,  0. ,  0.5]])"
      ]
     },
     "execution_count": 4,
     "metadata": {},
     "output_type": "execute_result"
    }
   ],
   "source": [
    "Hemilton(3)"
   ]
  },
  {
   "cell_type": "code",
   "execution_count": 6,
   "metadata": {},
   "outputs": [],
   "source": [
    "def times3(a,b,L):\n",
    "    c = [[np.zeros([2**L,2**L]) for i in range(5)] for j in range(5)]\n",
    "    for i in range(5):\n",
    "        for j in range(5):\n",
    "            for m in range(5):\n",
    "                c[i][j] += np.kron(a[i][m],b[m][j])\n",
    "    return c"
   ]
  },
  {
   "cell_type": "code",
   "execution_count": 28,
   "metadata": {},
   "outputs": [
    {
     "data": {
      "text/plain": [
       "array([[ 0. ,  0.5,  0. ,  0. ],\n",
       "       [ 0. ,  0. ,  0. ,  0. ],\n",
       "       [ 0. ,  0. ,  0. ,  0.5],\n",
       "       [ 0. ,  0. ,  0. ,  0. ]])"
      ]
     },
     "execution_count": 28,
     "metadata": {},
     "output_type": "execute_result"
    }
   ],
   "source": [
    "times3(Wi(),Wi(),2)[0][1]"
   ]
  },
  {
   "cell_type": "code",
   "execution_count": 189,
   "metadata": {},
   "outputs": [],
   "source": [
    "def enlarge(H1,H2,s1,J,s2):\n",
    "    return np.kron(H1,np.eye(int(H2.shape[0]))) + \\\n",
    "            J * np.kron(H1R,H2L) + np.kron(np.eye(int(H1.shape[0])),H2)\n",
    "\n",
    "def renormalize(H, V):\n",
    "    \"\"\"重整化\"\"\"\n",
    "    return V.conjugate().transpose().dot(H.dot(V))"
   ]
  },
  {
   "cell_type": "code",
   "execution_count": 200,
   "metadata": {},
   "outputs": [
    {
     "name": "stdout",
     "output_type": "stream",
     "text": [
      "[0.3339345626754193, 0.15150245997114498, 0.3886170222365186, 1.50566166477641]\n",
      "3\n"
     ]
    }
   ],
   "source": [
    "L = 10\n",
    "l = 2\n",
    "m = 10\n",
    "Jwhole = [Ji() for i in range(L - 1)]\n",
    "block = [Hemilton(l,Jwhole[i * l : i * l + l - 1]) for i in range(int( L / l ))]\n",
    "Jwhole = [Jwhole[i * l + l - 1] for i in range(int( L / l - 1))]\n",
    "block_s = [np.eye(2**(l-1))*Splus]"
   ]
  },
  {
   "cell_type": "code",
   "execution_count": 201,
   "metadata": {},
   "outputs": [
    {
     "data": {
      "text/plain": [
       "[0.3339345626754193, 0.15150245997114498, 0.3886170222365186]"
      ]
     },
     "execution_count": 201,
     "metadata": {},
     "output_type": "execute_result"
    }
   ],
   "source": [
    "delta = []\n",
    "for i in range(len(block) - 1):\n",
    "    evals, _ = np.linalg.eigh(enlarge(block[i],block[i + 1],Jwhole[i]))\n",
    "    delta.append(evals[m] - evals[m-1])\n",
    "    \n",
    "maxindex = delta.index(max(delta))\n",
    "H_max_delta = enlarge(H_effe[maxindex],H_effe[maxindex + 1],Jwhole[maxindex])\n",
    "_, evecs = np.linalg.eigh(H_max_delta)\n",
    "block[maxindex] = renormalize(H_max_delta, evecs[:,0:m])\n",
    "del block[maxindex+1]\n",
    "del Jwhole[maxindex]"
   ]
  },
  {
   "cell_type": "code",
   "execution_count": 204,
   "metadata": {},
   "outputs": [
    {
     "data": {
      "text/plain": [
       "array([[ 0.25,  0.  ,  0.  ,  0.  ],\n",
       "       [ 0.  , -0.25,  0.5 ,  0.  ],\n",
       "       [ 0.  ,  0.5 , -0.25,  0.  ],\n",
       "       [ 0.  ,  0.  ,  0.  ,  0.25]])"
      ]
     },
     "execution_count": 204,
     "metadata": {},
     "output_type": "execute_result"
    }
   ],
   "source": [
    "Hemilton(2,[1])"
   ]
  },
  {
   "cell_type": "code",
   "execution_count": 205,
   "metadata": {},
   "outputs": [
    {
     "data": {
      "text/plain": [
       "array([[ 0.5,  0. ,  0. ,  0. ],\n",
       "       [ 0. , -0.5,  1. ,  0. ],\n",
       "       [ 0. ,  1. , -0.5,  0. ],\n",
       "       [ 0. ,  0. ,  0. ,  0.5]])"
      ]
     },
     "execution_count": 205,
     "metadata": {},
     "output_type": "execute_result"
    }
   ],
   "source": [
    "Hemilton(2,[1])*2"
   ]
  },
  {
   "cell_type": "code",
   "execution_count": 207,
   "metadata": {},
   "outputs": [
    {
     "data": {
      "text/plain": [
       "32"
      ]
     },
     "execution_count": 207,
     "metadata": {},
     "output_type": "execute_result"
    }
   ],
   "source": [
    "2**5"
   ]
  },
  {
   "cell_type": "code",
   "execution_count": null,
   "metadata": {},
   "outputs": [],
   "source": []
  }
 ],
 "metadata": {
  "kernelspec": {
   "display_name": "Python 3",
   "language": "python",
   "name": "python3"
  },
  "language_info": {
   "codemirror_mode": {
    "name": "ipython",
    "version": 3
   },
   "file_extension": ".py",
   "mimetype": "text/x-python",
   "name": "python",
   "nbconvert_exporter": "python",
   "pygments_lexer": "ipython3",
   "version": "3.6.6"
  }
 },
 "nbformat": 4,
 "nbformat_minor": 2
}
